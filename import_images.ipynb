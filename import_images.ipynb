{
 "cells": [
  {
   "cell_type": "code",
   "execution_count": 24,
   "id": "6d133784",
   "metadata": {},
   "outputs": [
    {
     "name": "stdout",
     "output_type": "stream",
     "text": [
      "Multi-frame image saved successfully.\n"
     ]
    }
   ],
   "source": [
    "import os\n",
    "import numpy as np\n",
    "import tifffile\n",
    "\n",
    "parent_folder_path = '/Volumes/T7/200DCE_240228_3xGFP-Ect2PH(PBC)_SFC/scope_folders/New Folder With Items'\n",
    "\n",
    "# Find all folders within the parent folder\n",
    "base_folders = [folder for folder in os.listdir(parent_folder_path) if os.path.isdir(os.path.join(parent_folder_path, folder))]\n",
    "\n",
    "# Process each folder\n",
    "for indv_folder in base_folders:\n",
    "    all_files = []\n",
    "    indv_folder_path = os.path.join(parent_folder_path, indv_folder)\n",
    "    mip_folder_path = os.path.join(indv_folder_path, \"MIP\")\n",
    "    \n",
    "    # Get all files in the MIP folder\n",
    "    if os.path.exists(mip_folder_path) and os.path.isdir(mip_folder_path):\n",
    "        all_files.extend([os.path.join(mip_folder_path, file) for file in os.listdir(mip_folder_path)])\n",
    "    \n",
    "    # Get the unique channel names from the file paths\n",
    "    channel_names = set([file.split(\"_Ch\")[1].split(\"_\")[0] for file in all_files])\n",
    "    num_channels = len(channel_names)\n",
    "    \n",
    "    # Get all the images for each channel\n",
    "    all_images = {}\n",
    "    for channel in channel_names:\n",
    "        channel_files = [file for file in all_files if f'Ch{channel}' in file] \n",
    "        channel_image = [tifffile.imread(file) for file in channel_files]\n",
    "        all_images[channel] = np.stack(channel_image)\n",
    "    \n",
    "    # Merge the images into a single multi-frame image\n",
    "    merged_image = np.stack([all_images[channel] for channel in sorted(all_images.keys())], axis=1)\n",
    "    \n",
    "    # Save the multi-frame image\n",
    "    output_path = os.path.join(parent_folder_path, \"processed_images\")\n",
    "    os.makedirs(output_path, exist_ok=True)\n",
    "    tifffile.imsave(os.path.join(output_path, f\"MAX_{indv_folder}_raw.tif\"), merged_image)\n",
    "    \n",
    "print(\"Multi-frame image saved successfully.\")\n"
   ]
  },
  {
   "cell_type": "code",
   "execution_count": null,
   "id": "9942dee5",
   "metadata": {},
   "outputs": [],
   "source": []
  }
 ],
 "metadata": {
  "kernelspec": {
   "display_name": "Python 3.9.7 ('base')",
   "language": "python",
   "name": "python3"
  },
  "language_info": {
   "codemirror_mode": {
    "name": "ipython",
    "version": 3
   },
   "file_extension": ".py",
   "mimetype": "text/x-python",
   "name": "python",
   "nbconvert_exporter": "python",
   "pygments_lexer": "ipython3",
   "version": "3.11.4"
  },
  "vscode": {
   "interpreter": {
    "hash": "9e7c5e355466f7aa2375f2a09663ffde6f6d12fe8bf8f1a4007efb595e6d1812"
   }
  }
 },
 "nbformat": 4,
 "nbformat_minor": 5
}
